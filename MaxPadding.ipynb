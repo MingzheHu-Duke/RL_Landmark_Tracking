{
  "nbformat": 4,
  "nbformat_minor": 0,
  "metadata": {
    "colab": {
      "name": "MaxPadding.ipynb",
      "provenance": [],
      "authorship_tag": "ABX9TyPz+/m+NfNHlqGqIt9Y80js",
      "include_colab_link": true
    },
    "kernelspec": {
      "name": "python3",
      "display_name": "Python 3"
    },
    "language_info": {
      "name": "python"
    }
  },
  "cells": [
    {
      "cell_type": "markdown",
      "metadata": {
        "id": "view-in-github",
        "colab_type": "text"
      },
      "source": [
        "<a href=\"https://colab.research.google.com/github/MingzheHu-Duke/RL_Landmark_Tracking/blob/mh%2Fimage_processing/MaxPadding.ipynb\" target=\"_parent\"><img src=\"https://colab.research.google.com/assets/colab-badge.svg\" alt=\"Open In Colab\"/></a>"
      ]
    },
    {
      "cell_type": "markdown",
      "source": [
        "### Motivation\n",
        "The input size of the images (enviroment) *2D* may be different. We want to reform them to the same size, but also keep the same spatial resolution. Simply resize the images will change the aspect ratio and also change the spatial resolution. So padding the images to the same size before resizing would make more sense."
      ],
      "metadata": {
        "id": "UOGoEw-zEJww"
      }
    },
    {
      "cell_type": "code",
      "source": [
        "import numpy as np\n",
        "\n",
        "def pad_max(images, ratio=None, value=0, tie_break=np.floor):\n",
        "  \"\"\"\n",
        "  Pad the given sequence of image arrays to the shape that fit the biggest array\n",
        "  ratio:\n",
        "  \"\"\"\n",
        "  shapes = np.array([x.shape for x in images])\n",
        "  if ratio is not None:\n",
        "    ratio = np.zeros_like(shapes) + ratio\n",
        "  else:\n",
        "    ratio = np.ones_like(shapes) - 1\n",
        "  # Maximum size along the first axis\n",
        "  max_size = shapes.max(axis=0, keepdims=True)\n",
        "  # See how many pixels we need to pad\n",
        "  margin = max_size - shapes\n",
        "  # How many pixesl\n",
        "  pad_before = tie_break(margin * ratio.astype(float)).astype(int)\n",
        "  pad_after = margin - pad_before\n",
        "  # Stack the pad_before and pad_after\n",
        "  pad = np.stack([pad_before, pad_after], axis=2)\n",
        "  return [np.pad(x, w, mode=\"constant\", constant_values=value) for x, w in zip(images, pad)]"
      ],
      "metadata": {
        "id": "Va-E9P-eGhQz"
      },
      "execution_count": 29,
      "outputs": []
    },
    {
      "cell_type": "code",
      "source": [
        "# See if ou method does work\n",
        "test = [np.ones(shape=(i, 10 - i, 3)) for i in range(1, 10)]\n",
        "result = pad_max(test, ratio=1, value=255)\n",
        "\n",
        "print([x.shape for x in result])\n",
        "for i in range(9):\n",
        "  print(f\"Padded Image{i}\")\n",
        "  print(result[i][:, :, 0])\n",
        "  print(\"\\n\")"
      ],
      "metadata": {
        "colab": {
          "base_uri": "https://localhost:8080/"
        },
        "id": "Ebhq-YqwczkN",
        "outputId": "d54eb75e-d215-40ae-e7b7-ab8e7c66e32c"
      },
      "execution_count": 37,
      "outputs": [
        {
          "output_type": "stream",
          "name": "stdout",
          "text": [
            "[(9, 9, 3), (9, 9, 3), (9, 9, 3), (9, 9, 3), (9, 9, 3), (9, 9, 3), (9, 9, 3), (9, 9, 3), (9, 9, 3)]\n",
            "Padded Image0\n",
            "[[255. 255. 255. 255. 255. 255. 255. 255. 255.]\n",
            " [255. 255. 255. 255. 255. 255. 255. 255. 255.]\n",
            " [255. 255. 255. 255. 255. 255. 255. 255. 255.]\n",
            " [255. 255. 255. 255. 255. 255. 255. 255. 255.]\n",
            " [255. 255. 255. 255. 255. 255. 255. 255. 255.]\n",
            " [255. 255. 255. 255. 255. 255. 255. 255. 255.]\n",
            " [255. 255. 255. 255. 255. 255. 255. 255. 255.]\n",
            " [255. 255. 255. 255. 255. 255. 255. 255. 255.]\n",
            " [  1.   1.   1.   1.   1.   1.   1.   1.   1.]]\n",
            "\n",
            "\n",
            "Padded Image1\n",
            "[[255. 255. 255. 255. 255. 255. 255. 255. 255.]\n",
            " [255. 255. 255. 255. 255. 255. 255. 255. 255.]\n",
            " [255. 255. 255. 255. 255. 255. 255. 255. 255.]\n",
            " [255. 255. 255. 255. 255. 255. 255. 255. 255.]\n",
            " [255. 255. 255. 255. 255. 255. 255. 255. 255.]\n",
            " [255. 255. 255. 255. 255. 255. 255. 255. 255.]\n",
            " [255. 255. 255. 255. 255. 255. 255. 255. 255.]\n",
            " [255.   1.   1.   1.   1.   1.   1.   1.   1.]\n",
            " [255.   1.   1.   1.   1.   1.   1.   1.   1.]]\n",
            "\n",
            "\n",
            "Padded Image2\n",
            "[[255. 255. 255. 255. 255. 255. 255. 255. 255.]\n",
            " [255. 255. 255. 255. 255. 255. 255. 255. 255.]\n",
            " [255. 255. 255. 255. 255. 255. 255. 255. 255.]\n",
            " [255. 255. 255. 255. 255. 255. 255. 255. 255.]\n",
            " [255. 255. 255. 255. 255. 255. 255. 255. 255.]\n",
            " [255. 255. 255. 255. 255. 255. 255. 255. 255.]\n",
            " [255. 255.   1.   1.   1.   1.   1.   1.   1.]\n",
            " [255. 255.   1.   1.   1.   1.   1.   1.   1.]\n",
            " [255. 255.   1.   1.   1.   1.   1.   1.   1.]]\n",
            "\n",
            "\n",
            "Padded Image3\n",
            "[[255. 255. 255. 255. 255. 255. 255. 255. 255.]\n",
            " [255. 255. 255. 255. 255. 255. 255. 255. 255.]\n",
            " [255. 255. 255. 255. 255. 255. 255. 255. 255.]\n",
            " [255. 255. 255. 255. 255. 255. 255. 255. 255.]\n",
            " [255. 255. 255. 255. 255. 255. 255. 255. 255.]\n",
            " [255. 255. 255.   1.   1.   1.   1.   1.   1.]\n",
            " [255. 255. 255.   1.   1.   1.   1.   1.   1.]\n",
            " [255. 255. 255.   1.   1.   1.   1.   1.   1.]\n",
            " [255. 255. 255.   1.   1.   1.   1.   1.   1.]]\n",
            "\n",
            "\n",
            "Padded Image4\n",
            "[[255. 255. 255. 255. 255. 255. 255. 255. 255.]\n",
            " [255. 255. 255. 255. 255. 255. 255. 255. 255.]\n",
            " [255. 255. 255. 255. 255. 255. 255. 255. 255.]\n",
            " [255. 255. 255. 255. 255. 255. 255. 255. 255.]\n",
            " [255. 255. 255. 255.   1.   1.   1.   1.   1.]\n",
            " [255. 255. 255. 255.   1.   1.   1.   1.   1.]\n",
            " [255. 255. 255. 255.   1.   1.   1.   1.   1.]\n",
            " [255. 255. 255. 255.   1.   1.   1.   1.   1.]\n",
            " [255. 255. 255. 255.   1.   1.   1.   1.   1.]]\n",
            "\n",
            "\n",
            "Padded Image5\n",
            "[[255. 255. 255. 255. 255. 255. 255. 255. 255.]\n",
            " [255. 255. 255. 255. 255. 255. 255. 255. 255.]\n",
            " [255. 255. 255. 255. 255. 255. 255. 255. 255.]\n",
            " [255. 255. 255. 255. 255.   1.   1.   1.   1.]\n",
            " [255. 255. 255. 255. 255.   1.   1.   1.   1.]\n",
            " [255. 255. 255. 255. 255.   1.   1.   1.   1.]\n",
            " [255. 255. 255. 255. 255.   1.   1.   1.   1.]\n",
            " [255. 255. 255. 255. 255.   1.   1.   1.   1.]\n",
            " [255. 255. 255. 255. 255.   1.   1.   1.   1.]]\n",
            "\n",
            "\n",
            "Padded Image6\n",
            "[[255. 255. 255. 255. 255. 255. 255. 255. 255.]\n",
            " [255. 255. 255. 255. 255. 255. 255. 255. 255.]\n",
            " [255. 255. 255. 255. 255. 255.   1.   1.   1.]\n",
            " [255. 255. 255. 255. 255. 255.   1.   1.   1.]\n",
            " [255. 255. 255. 255. 255. 255.   1.   1.   1.]\n",
            " [255. 255. 255. 255. 255. 255.   1.   1.   1.]\n",
            " [255. 255. 255. 255. 255. 255.   1.   1.   1.]\n",
            " [255. 255. 255. 255. 255. 255.   1.   1.   1.]\n",
            " [255. 255. 255. 255. 255. 255.   1.   1.   1.]]\n",
            "\n",
            "\n",
            "Padded Image7\n",
            "[[255. 255. 255. 255. 255. 255. 255. 255. 255.]\n",
            " [255. 255. 255. 255. 255. 255. 255.   1.   1.]\n",
            " [255. 255. 255. 255. 255. 255. 255.   1.   1.]\n",
            " [255. 255. 255. 255. 255. 255. 255.   1.   1.]\n",
            " [255. 255. 255. 255. 255. 255. 255.   1.   1.]\n",
            " [255. 255. 255. 255. 255. 255. 255.   1.   1.]\n",
            " [255. 255. 255. 255. 255. 255. 255.   1.   1.]\n",
            " [255. 255. 255. 255. 255. 255. 255.   1.   1.]\n",
            " [255. 255. 255. 255. 255. 255. 255.   1.   1.]]\n",
            "\n",
            "\n",
            "Padded Image8\n",
            "[[255. 255. 255. 255. 255. 255. 255. 255.   1.]\n",
            " [255. 255. 255. 255. 255. 255. 255. 255.   1.]\n",
            " [255. 255. 255. 255. 255. 255. 255. 255.   1.]\n",
            " [255. 255. 255. 255. 255. 255. 255. 255.   1.]\n",
            " [255. 255. 255. 255. 255. 255. 255. 255.   1.]\n",
            " [255. 255. 255. 255. 255. 255. 255. 255.   1.]\n",
            " [255. 255. 255. 255. 255. 255. 255. 255.   1.]\n",
            " [255. 255. 255. 255. 255. 255. 255. 255.   1.]\n",
            " [255. 255. 255. 255. 255. 255. 255. 255.   1.]]\n",
            "\n",
            "\n"
          ]
        }
      ]
    }
  ]
}